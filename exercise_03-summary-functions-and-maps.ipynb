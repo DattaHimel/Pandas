{
 "cells": [
  {
   "cell_type": "markdown",
   "id": "4a2659be",
   "metadata": {
    "papermill": {
     "duration": 0.008729,
     "end_time": "2024-04-29T16:22:30.001390",
     "exception": false,
     "start_time": "2024-04-29T16:22:29.992661",
     "status": "completed"
    },
    "tags": []
   },
   "source": [
    "**This notebook is an exercise in the [Pandas](https://www.kaggle.com/learn/pandas) course.  You can reference the tutorial at [this link](https://www.kaggle.com/residentmario/summary-functions-and-maps).**\n",
    "\n",
    "---\n"
   ]
  },
  {
   "cell_type": "markdown",
   "id": "151c2ac4",
   "metadata": {
    "papermill": {
     "duration": 0.007883,
     "end_time": "2024-04-29T16:22:30.017494",
     "exception": false,
     "start_time": "2024-04-29T16:22:30.009611",
     "status": "completed"
    },
    "tags": []
   },
   "source": [
    "# Introduction\n",
    "\n",
    "Now you are ready to get a deeper understanding of your data.\n",
    "\n",
    "Run the following cell to load your data and some utility functions (including code to check your answers)."
   ]
  },
  {
   "cell_type": "code",
   "execution_count": 1,
   "id": "71087db2",
   "metadata": {
    "execution": {
     "iopub.execute_input": "2024-04-29T16:22:30.036093Z",
     "iopub.status.busy": "2024-04-29T16:22:30.035622Z",
     "iopub.status.idle": "2024-04-29T16:22:40.331466Z",
     "shell.execute_reply": "2024-04-29T16:22:40.330160Z"
    },
    "papermill": {
     "duration": 10.308565,
     "end_time": "2024-04-29T16:22:40.334158",
     "exception": false,
     "start_time": "2024-04-29T16:22:30.025593",
     "status": "completed"
    },
    "tags": []
   },
   "outputs": [
    {
     "name": "stdout",
     "output_type": "stream",
     "text": [
      "Setup complete.\n"
     ]
    },
    {
     "data": {
      "text/html": [
       "<div>\n",
       "<style scoped>\n",
       "    .dataframe tbody tr th:only-of-type {\n",
       "        vertical-align: middle;\n",
       "    }\n",
       "\n",
       "    .dataframe tbody tr th {\n",
       "        vertical-align: top;\n",
       "    }\n",
       "\n",
       "    .dataframe thead th {\n",
       "        text-align: right;\n",
       "    }\n",
       "</style>\n",
       "<table border=\"1\" class=\"dataframe\">\n",
       "  <thead>\n",
       "    <tr style=\"text-align: right;\">\n",
       "      <th></th>\n",
       "      <th>country</th>\n",
       "      <th>description</th>\n",
       "      <th>designation</th>\n",
       "      <th>points</th>\n",
       "      <th>price</th>\n",
       "      <th>province</th>\n",
       "      <th>region_1</th>\n",
       "      <th>region_2</th>\n",
       "      <th>taster_name</th>\n",
       "      <th>taster_twitter_handle</th>\n",
       "      <th>title</th>\n",
       "      <th>variety</th>\n",
       "      <th>winery</th>\n",
       "    </tr>\n",
       "  </thead>\n",
       "  <tbody>\n",
       "    <tr>\n",
       "      <th>0</th>\n",
       "      <td>Italy</td>\n",
       "      <td>Aromas include tropical fruit, broom, brimston...</td>\n",
       "      <td>Vulkà Bianco</td>\n",
       "      <td>87</td>\n",
       "      <td>NaN</td>\n",
       "      <td>Sicily &amp; Sardinia</td>\n",
       "      <td>Etna</td>\n",
       "      <td>NaN</td>\n",
       "      <td>Kerin O’Keefe</td>\n",
       "      <td>@kerinokeefe</td>\n",
       "      <td>Nicosia 2013 Vulkà Bianco  (Etna)</td>\n",
       "      <td>White Blend</td>\n",
       "      <td>Nicosia</td>\n",
       "    </tr>\n",
       "    <tr>\n",
       "      <th>1</th>\n",
       "      <td>Portugal</td>\n",
       "      <td>This is ripe and fruity, a wine that is smooth...</td>\n",
       "      <td>Avidagos</td>\n",
       "      <td>87</td>\n",
       "      <td>15.0</td>\n",
       "      <td>Douro</td>\n",
       "      <td>NaN</td>\n",
       "      <td>NaN</td>\n",
       "      <td>Roger Voss</td>\n",
       "      <td>@vossroger</td>\n",
       "      <td>Quinta dos Avidagos 2011 Avidagos Red (Douro)</td>\n",
       "      <td>Portuguese Red</td>\n",
       "      <td>Quinta dos Avidagos</td>\n",
       "    </tr>\n",
       "    <tr>\n",
       "      <th>2</th>\n",
       "      <td>US</td>\n",
       "      <td>Tart and snappy, the flavors of lime flesh and...</td>\n",
       "      <td>NaN</td>\n",
       "      <td>87</td>\n",
       "      <td>14.0</td>\n",
       "      <td>Oregon</td>\n",
       "      <td>Willamette Valley</td>\n",
       "      <td>Willamette Valley</td>\n",
       "      <td>Paul Gregutt</td>\n",
       "      <td>@paulgwine</td>\n",
       "      <td>Rainstorm 2013 Pinot Gris (Willamette Valley)</td>\n",
       "      <td>Pinot Gris</td>\n",
       "      <td>Rainstorm</td>\n",
       "    </tr>\n",
       "    <tr>\n",
       "      <th>3</th>\n",
       "      <td>US</td>\n",
       "      <td>Pineapple rind, lemon pith and orange blossom ...</td>\n",
       "      <td>Reserve Late Harvest</td>\n",
       "      <td>87</td>\n",
       "      <td>13.0</td>\n",
       "      <td>Michigan</td>\n",
       "      <td>Lake Michigan Shore</td>\n",
       "      <td>NaN</td>\n",
       "      <td>Alexander Peartree</td>\n",
       "      <td>NaN</td>\n",
       "      <td>St. Julian 2013 Reserve Late Harvest Riesling ...</td>\n",
       "      <td>Riesling</td>\n",
       "      <td>St. Julian</td>\n",
       "    </tr>\n",
       "    <tr>\n",
       "      <th>4</th>\n",
       "      <td>US</td>\n",
       "      <td>Much like the regular bottling from 2012, this...</td>\n",
       "      <td>Vintner's Reserve Wild Child Block</td>\n",
       "      <td>87</td>\n",
       "      <td>65.0</td>\n",
       "      <td>Oregon</td>\n",
       "      <td>Willamette Valley</td>\n",
       "      <td>Willamette Valley</td>\n",
       "      <td>Paul Gregutt</td>\n",
       "      <td>@paulgwine</td>\n",
       "      <td>Sweet Cheeks 2012 Vintner's Reserve Wild Child...</td>\n",
       "      <td>Pinot Noir</td>\n",
       "      <td>Sweet Cheeks</td>\n",
       "    </tr>\n",
       "  </tbody>\n",
       "</table>\n",
       "</div>"
      ],
      "text/plain": [
       "    country                                        description  \\\n",
       "0     Italy  Aromas include tropical fruit, broom, brimston...   \n",
       "1  Portugal  This is ripe and fruity, a wine that is smooth...   \n",
       "2        US  Tart and snappy, the flavors of lime flesh and...   \n",
       "3        US  Pineapple rind, lemon pith and orange blossom ...   \n",
       "4        US  Much like the regular bottling from 2012, this...   \n",
       "\n",
       "                          designation  points  price           province  \\\n",
       "0                        Vulkà Bianco      87    NaN  Sicily & Sardinia   \n",
       "1                            Avidagos      87   15.0              Douro   \n",
       "2                                 NaN      87   14.0             Oregon   \n",
       "3                Reserve Late Harvest      87   13.0           Michigan   \n",
       "4  Vintner's Reserve Wild Child Block      87   65.0             Oregon   \n",
       "\n",
       "              region_1           region_2         taster_name  \\\n",
       "0                 Etna                NaN       Kerin O’Keefe   \n",
       "1                  NaN                NaN          Roger Voss   \n",
       "2    Willamette Valley  Willamette Valley        Paul Gregutt   \n",
       "3  Lake Michigan Shore                NaN  Alexander Peartree   \n",
       "4    Willamette Valley  Willamette Valley        Paul Gregutt   \n",
       "\n",
       "  taster_twitter_handle                                              title  \\\n",
       "0          @kerinokeefe                  Nicosia 2013 Vulkà Bianco  (Etna)   \n",
       "1            @vossroger      Quinta dos Avidagos 2011 Avidagos Red (Douro)   \n",
       "2           @paulgwine       Rainstorm 2013 Pinot Gris (Willamette Valley)   \n",
       "3                   NaN  St. Julian 2013 Reserve Late Harvest Riesling ...   \n",
       "4           @paulgwine   Sweet Cheeks 2012 Vintner's Reserve Wild Child...   \n",
       "\n",
       "          variety               winery  \n",
       "0     White Blend              Nicosia  \n",
       "1  Portuguese Red  Quinta dos Avidagos  \n",
       "2      Pinot Gris            Rainstorm  \n",
       "3        Riesling           St. Julian  \n",
       "4      Pinot Noir         Sweet Cheeks  "
      ]
     },
     "execution_count": 1,
     "metadata": {},
     "output_type": "execute_result"
    }
   ],
   "source": [
    "import pandas as pd\n",
    "pd.set_option(\"display.max_rows\", 5)\n",
    "reviews = pd.read_csv(\"../input/wine-reviews/winemag-data-130k-v2.csv\", index_col=0)\n",
    "\n",
    "from learntools.core import binder; binder.bind(globals())\n",
    "from learntools.pandas.summary_functions_and_maps import *\n",
    "print(\"Setup complete.\")\n",
    "\n",
    "reviews.head()"
   ]
  },
  {
   "cell_type": "markdown",
   "id": "968c8261",
   "metadata": {
    "papermill": {
     "duration": 0.008715,
     "end_time": "2024-04-29T16:22:40.351962",
     "exception": false,
     "start_time": "2024-04-29T16:22:40.343247",
     "status": "completed"
    },
    "tags": []
   },
   "source": [
    "# Exercises"
   ]
  },
  {
   "cell_type": "markdown",
   "id": "d7c8defd",
   "metadata": {
    "papermill": {
     "duration": 0.008571,
     "end_time": "2024-04-29T16:22:40.370333",
     "exception": false,
     "start_time": "2024-04-29T16:22:40.361762",
     "status": "completed"
    },
    "tags": []
   },
   "source": [
    "## 1.\n",
    "\n",
    "What is the median of the `points` column in the `reviews` DataFrame?"
   ]
  },
  {
   "cell_type": "code",
   "execution_count": 2,
   "id": "c2d9df41",
   "metadata": {
    "execution": {
     "iopub.execute_input": "2024-04-29T16:22:40.391193Z",
     "iopub.status.busy": "2024-04-29T16:22:40.390799Z",
     "iopub.status.idle": "2024-04-29T16:22:40.403144Z",
     "shell.execute_reply": "2024-04-29T16:22:40.401940Z"
    },
    "papermill": {
     "duration": 0.025352,
     "end_time": "2024-04-29T16:22:40.405579",
     "exception": false,
     "start_time": "2024-04-29T16:22:40.380227",
     "status": "completed"
    },
    "tags": []
   },
   "outputs": [
    {
     "data": {
      "application/javascript": [
       "parent.postMessage({\"jupyterEvent\": \"custom.exercise_interaction\", \"data\": {\"outcomeType\": 1, \"valueTowardsCompletion\": 0.14285714285714285, \"interactionType\": 1, \"questionType\": 1, \"questionId\": \"1_MedianPoints\", \"learnToolsVersion\": \"0.3.4\", \"failureMessage\": \"\", \"exceptionClass\": \"\", \"trace\": \"\"}}, \"*\")"
      ],
      "text/plain": [
       "<IPython.core.display.Javascript object>"
      ]
     },
     "metadata": {},
     "output_type": "display_data"
    },
    {
     "data": {
      "text/markdown": [
       "<span style=\"color:#33cc33\">Correct</span>"
      ],
      "text/plain": [
       "Correct"
      ]
     },
     "metadata": {},
     "output_type": "display_data"
    }
   ],
   "source": [
    "median_points = reviews.points.median()\n",
    "\n",
    "# Check your answer\n",
    "q1.check()"
   ]
  },
  {
   "cell_type": "code",
   "execution_count": 3,
   "id": "dc39637f",
   "metadata": {
    "execution": {
     "iopub.execute_input": "2024-04-29T16:22:40.425263Z",
     "iopub.status.busy": "2024-04-29T16:22:40.424833Z",
     "iopub.status.idle": "2024-04-29T16:22:40.429956Z",
     "shell.execute_reply": "2024-04-29T16:22:40.428804Z"
    },
    "papermill": {
     "duration": 0.0181,
     "end_time": "2024-04-29T16:22:40.432623",
     "exception": false,
     "start_time": "2024-04-29T16:22:40.414523",
     "status": "completed"
    },
    "tags": []
   },
   "outputs": [],
   "source": [
    "#q1.hint()\n",
    "#q1.solution()"
   ]
  },
  {
   "cell_type": "markdown",
   "id": "d77a5039",
   "metadata": {
    "papermill": {
     "duration": 0.009211,
     "end_time": "2024-04-29T16:22:40.451565",
     "exception": false,
     "start_time": "2024-04-29T16:22:40.442354",
     "status": "completed"
    },
    "tags": []
   },
   "source": [
    "## 2. \n",
    "What countries are represented in the dataset? (Your answer should not include any duplicates.)"
   ]
  },
  {
   "cell_type": "code",
   "execution_count": 4,
   "id": "3053bba1",
   "metadata": {
    "execution": {
     "iopub.execute_input": "2024-04-29T16:22:40.472788Z",
     "iopub.status.busy": "2024-04-29T16:22:40.472409Z",
     "iopub.status.idle": "2024-04-29T16:22:40.492374Z",
     "shell.execute_reply": "2024-04-29T16:22:40.491108Z"
    },
    "papermill": {
     "duration": 0.033004,
     "end_time": "2024-04-29T16:22:40.495021",
     "exception": false,
     "start_time": "2024-04-29T16:22:40.462017",
     "status": "completed"
    },
    "tags": []
   },
   "outputs": [
    {
     "data": {
      "application/javascript": [
       "parent.postMessage({\"jupyterEvent\": \"custom.exercise_interaction\", \"data\": {\"outcomeType\": 1, \"valueTowardsCompletion\": 0.14285714285714285, \"interactionType\": 1, \"questionType\": 2, \"questionId\": \"2_UniqueCountries\", \"learnToolsVersion\": \"0.3.4\", \"failureMessage\": \"\", \"exceptionClass\": \"\", \"trace\": \"\"}}, \"*\")"
      ],
      "text/plain": [
       "<IPython.core.display.Javascript object>"
      ]
     },
     "metadata": {},
     "output_type": "display_data"
    },
    {
     "data": {
      "text/markdown": [
       "<span style=\"color:#33cc33\">Correct</span>"
      ],
      "text/plain": [
       "Correct"
      ]
     },
     "metadata": {},
     "output_type": "display_data"
    }
   ],
   "source": [
    "countries = reviews.country.unique()\n",
    "\n",
    "# Check your answer\n",
    "q2.check()"
   ]
  },
  {
   "cell_type": "code",
   "execution_count": 5,
   "id": "620c3ab4",
   "metadata": {
    "execution": {
     "iopub.execute_input": "2024-04-29T16:22:40.515493Z",
     "iopub.status.busy": "2024-04-29T16:22:40.515040Z",
     "iopub.status.idle": "2024-04-29T16:22:40.520123Z",
     "shell.execute_reply": "2024-04-29T16:22:40.518883Z"
    },
    "papermill": {
     "duration": 0.01856,
     "end_time": "2024-04-29T16:22:40.523036",
     "exception": false,
     "start_time": "2024-04-29T16:22:40.504476",
     "status": "completed"
    },
    "tags": []
   },
   "outputs": [],
   "source": [
    "#q2.hint()\n",
    "#q2.solution()"
   ]
  },
  {
   "cell_type": "markdown",
   "id": "c69e0f03",
   "metadata": {
    "papermill": {
     "duration": 0.009038,
     "end_time": "2024-04-29T16:22:40.541707",
     "exception": false,
     "start_time": "2024-04-29T16:22:40.532669",
     "status": "completed"
    },
    "tags": []
   },
   "source": [
    "## 3.\n",
    "How often does each country appear in the dataset? Create a Series `reviews_per_country` mapping countries to the count of reviews of wines from that country."
   ]
  },
  {
   "cell_type": "code",
   "execution_count": 6,
   "id": "0a0c4b09",
   "metadata": {
    "execution": {
     "iopub.execute_input": "2024-04-29T16:22:40.563930Z",
     "iopub.status.busy": "2024-04-29T16:22:40.563364Z",
     "iopub.status.idle": "2024-04-29T16:22:40.597821Z",
     "shell.execute_reply": "2024-04-29T16:22:40.596311Z"
    },
    "papermill": {
     "duration": 0.048871,
     "end_time": "2024-04-29T16:22:40.600643",
     "exception": false,
     "start_time": "2024-04-29T16:22:40.551772",
     "status": "completed"
    },
    "tags": []
   },
   "outputs": [
    {
     "data": {
      "application/javascript": [
       "parent.postMessage({\"jupyterEvent\": \"custom.exercise_interaction\", \"data\": {\"outcomeType\": 1, \"valueTowardsCompletion\": 0.14285714285714285, \"interactionType\": 1, \"questionType\": 1, \"questionId\": \"3_ReviewsPerCountry\", \"learnToolsVersion\": \"0.3.4\", \"failureMessage\": \"\", \"exceptionClass\": \"\", \"trace\": \"\"}}, \"*\")"
      ],
      "text/plain": [
       "<IPython.core.display.Javascript object>"
      ]
     },
     "metadata": {},
     "output_type": "display_data"
    },
    {
     "data": {
      "text/markdown": [
       "<span style=\"color:#33cc33\">Correct</span>"
      ],
      "text/plain": [
       "Correct"
      ]
     },
     "metadata": {},
     "output_type": "display_data"
    }
   ],
   "source": [
    "reviews_per_country = reviews.country.value_counts()\n",
    "\n",
    "# Check your answer\n",
    "q3.check()"
   ]
  },
  {
   "cell_type": "code",
   "execution_count": 7,
   "id": "c5596570",
   "metadata": {
    "execution": {
     "iopub.execute_input": "2024-04-29T16:22:40.622551Z",
     "iopub.status.busy": "2024-04-29T16:22:40.621939Z",
     "iopub.status.idle": "2024-04-29T16:22:40.627831Z",
     "shell.execute_reply": "2024-04-29T16:22:40.626609Z"
    },
    "papermill": {
     "duration": 0.019955,
     "end_time": "2024-04-29T16:22:40.630366",
     "exception": false,
     "start_time": "2024-04-29T16:22:40.610411",
     "status": "completed"
    },
    "tags": []
   },
   "outputs": [],
   "source": [
    "#q3.hint()\n",
    "#q3.solution()"
   ]
  },
  {
   "cell_type": "markdown",
   "id": "8bd99747",
   "metadata": {
    "papermill": {
     "duration": 0.011072,
     "end_time": "2024-04-29T16:22:40.651873",
     "exception": false,
     "start_time": "2024-04-29T16:22:40.640801",
     "status": "completed"
    },
    "tags": []
   },
   "source": [
    "## 4.\n",
    "Create variable `centered_price` containing a version of the `price` column with the mean price subtracted.\n",
    "\n",
    "(Note: this 'centering' transformation is a common preprocessing step before applying various machine learning algorithms.) "
   ]
  },
  {
   "cell_type": "code",
   "execution_count": 8,
   "id": "f7473edc",
   "metadata": {
    "execution": {
     "iopub.execute_input": "2024-04-29T16:22:40.674130Z",
     "iopub.status.busy": "2024-04-29T16:22:40.673721Z",
     "iopub.status.idle": "2024-04-29T16:22:40.800080Z",
     "shell.execute_reply": "2024-04-29T16:22:40.798876Z"
    },
    "papermill": {
     "duration": 0.140279,
     "end_time": "2024-04-29T16:22:40.802702",
     "exception": false,
     "start_time": "2024-04-29T16:22:40.662423",
     "status": "completed"
    },
    "tags": []
   },
   "outputs": [
    {
     "data": {
      "application/javascript": [
       "parent.postMessage({\"jupyterEvent\": \"custom.exercise_interaction\", \"data\": {\"outcomeType\": 1, \"valueTowardsCompletion\": 0.14285714285714285, \"interactionType\": 1, \"questionType\": 1, \"questionId\": \"4_CenteredPrice\", \"learnToolsVersion\": \"0.3.4\", \"failureMessage\": \"\", \"exceptionClass\": \"\", \"trace\": \"\"}}, \"*\")"
      ],
      "text/plain": [
       "<IPython.core.display.Javascript object>"
      ]
     },
     "metadata": {},
     "output_type": "display_data"
    },
    {
     "data": {
      "text/markdown": [
       "<span style=\"color:#33cc33\">Correct</span>"
      ],
      "text/plain": [
       "Correct"
      ]
     },
     "metadata": {},
     "output_type": "display_data"
    },
    {
     "data": {
      "text/plain": [
       "0               NaN\n",
       "1        -20.363389\n",
       "            ...    \n",
       "129969    -3.363389\n",
       "129970   -14.363389\n",
       "Name: price, Length: 129971, dtype: float64"
      ]
     },
     "execution_count": 8,
     "metadata": {},
     "output_type": "execute_result"
    }
   ],
   "source": [
    "\n",
    "reviews_mean = reviews.price.mean()\n",
    "centered_price = reviews.price.map(lambda v:v - reviews_mean)\n",
    "\n",
    "# Check your answer\n",
    "q4.check()\n",
    "centered_price"
   ]
  },
  {
   "cell_type": "code",
   "execution_count": 9,
   "id": "a81cecd9",
   "metadata": {
    "execution": {
     "iopub.execute_input": "2024-04-29T16:22:40.827233Z",
     "iopub.status.busy": "2024-04-29T16:22:40.826822Z",
     "iopub.status.idle": "2024-04-29T16:22:40.831910Z",
     "shell.execute_reply": "2024-04-29T16:22:40.830760Z"
    },
    "papermill": {
     "duration": 0.020617,
     "end_time": "2024-04-29T16:22:40.834802",
     "exception": false,
     "start_time": "2024-04-29T16:22:40.814185",
     "status": "completed"
    },
    "tags": []
   },
   "outputs": [],
   "source": [
    "#q4.hint()\n",
    "#q4.solution()"
   ]
  },
  {
   "cell_type": "markdown",
   "id": "c48dbfaa",
   "metadata": {
    "papermill": {
     "duration": 0.011469,
     "end_time": "2024-04-29T16:22:40.858563",
     "exception": false,
     "start_time": "2024-04-29T16:22:40.847094",
     "status": "completed"
    },
    "tags": []
   },
   "source": [
    "## 5.\n",
    "I'm an economical wine buyer. Which wine is the \"best bargain\"? Create a variable `bargain_wine` with the title of the wine with the highest points-to-price ratio in the dataset."
   ]
  },
  {
   "cell_type": "code",
   "execution_count": 10,
   "id": "b8683222",
   "metadata": {
    "execution": {
     "iopub.execute_input": "2024-04-29T16:22:40.884218Z",
     "iopub.status.busy": "2024-04-29T16:22:40.883726Z",
     "iopub.status.idle": "2024-04-29T16:22:40.903543Z",
     "shell.execute_reply": "2024-04-29T16:22:40.902433Z"
    },
    "papermill": {
     "duration": 0.037199,
     "end_time": "2024-04-29T16:22:40.906783",
     "exception": false,
     "start_time": "2024-04-29T16:22:40.869584",
     "status": "completed"
    },
    "tags": []
   },
   "outputs": [
    {
     "data": {
      "application/javascript": [
       "parent.postMessage({\"jupyterEvent\": \"custom.exercise_interaction\", \"data\": {\"outcomeType\": 1, \"valueTowardsCompletion\": 0.14285714285714285, \"interactionType\": 1, \"questionType\": 2, \"questionId\": \"5_BargainWine\", \"learnToolsVersion\": \"0.3.4\", \"failureMessage\": \"\", \"exceptionClass\": \"\", \"trace\": \"\"}}, \"*\")"
      ],
      "text/plain": [
       "<IPython.core.display.Javascript object>"
      ]
     },
     "metadata": {},
     "output_type": "display_data"
    },
    {
     "data": {
      "text/markdown": [
       "<span style=\"color:#33cc33\">Correct</span>"
      ],
      "text/plain": [
       "Correct"
      ]
     },
     "metadata": {},
     "output_type": "display_data"
    },
    {
     "data": {
      "text/plain": [
       "'Bandit NV Merlot (California)'"
      ]
     },
     "execution_count": 10,
     "metadata": {},
     "output_type": "execute_result"
    }
   ],
   "source": [
    "bargain_idx = (reviews.points / reviews.price).idxmax()\n",
    "bargain_wine = reviews.loc[bargain_idx, 'title']\n",
    "\n",
    "# Check your answer\n",
    "q5.check()\n",
    "bargain_wine"
   ]
  },
  {
   "cell_type": "code",
   "execution_count": 11,
   "id": "df599622",
   "metadata": {
    "execution": {
     "iopub.execute_input": "2024-04-29T16:22:40.935514Z",
     "iopub.status.busy": "2024-04-29T16:22:40.934569Z",
     "iopub.status.idle": "2024-04-29T16:22:40.941236Z",
     "shell.execute_reply": "2024-04-29T16:22:40.939820Z"
    },
    "papermill": {
     "duration": 0.024074,
     "end_time": "2024-04-29T16:22:40.944100",
     "exception": false,
     "start_time": "2024-04-29T16:22:40.920026",
     "status": "completed"
    },
    "tags": []
   },
   "outputs": [],
   "source": [
    "#q5.hint()\n",
    "#q5.solution()"
   ]
  },
  {
   "cell_type": "markdown",
   "id": "355ecd93",
   "metadata": {
    "papermill": {
     "duration": 0.012336,
     "end_time": "2024-04-29T16:22:40.967993",
     "exception": false,
     "start_time": "2024-04-29T16:22:40.955657",
     "status": "completed"
    },
    "tags": []
   },
   "source": [
    "## 6.\n",
    "There are only so many words you can use when describing a bottle of wine. Is a wine more likely to be \"tropical\" or \"fruity\"? Create a Series `descriptor_counts` counting how many times each of these two words appears in the `description` column in the dataset. (For simplicity, let's ignore the capitalized versions of these words.)"
   ]
  },
  {
   "cell_type": "code",
   "execution_count": 12,
   "id": "4c8c623b",
   "metadata": {
    "execution": {
     "iopub.execute_input": "2024-04-29T16:22:40.994220Z",
     "iopub.status.busy": "2024-04-29T16:22:40.993797Z",
     "iopub.status.idle": "2024-04-29T16:22:41.195377Z",
     "shell.execute_reply": "2024-04-29T16:22:41.194104Z"
    },
    "papermill": {
     "duration": 0.218854,
     "end_time": "2024-04-29T16:22:41.198504",
     "exception": false,
     "start_time": "2024-04-29T16:22:40.979650",
     "status": "completed"
    },
    "tags": []
   },
   "outputs": [
    {
     "data": {
      "application/javascript": [
       "parent.postMessage({\"jupyterEvent\": \"custom.exercise_interaction\", \"data\": {\"outcomeType\": 1, \"valueTowardsCompletion\": 0.14285714285714285, \"interactionType\": 1, \"questionType\": 1, \"questionId\": \"6_DescriptorCounts\", \"learnToolsVersion\": \"0.3.4\", \"failureMessage\": \"\", \"exceptionClass\": \"\", \"trace\": \"\"}}, \"*\")"
      ],
      "text/plain": [
       "<IPython.core.display.Javascript object>"
      ]
     },
     "metadata": {},
     "output_type": "display_data"
    },
    {
     "data": {
      "text/markdown": [
       "<span style=\"color:#33cc33\">Correct</span>"
      ],
      "text/plain": [
       "Correct"
      ]
     },
     "metadata": {},
     "output_type": "display_data"
    },
    {
     "data": {
      "text/plain": [
       "tropical    3607\n",
       "fruity      9090\n",
       "dtype: int64"
      ]
     },
     "execution_count": 12,
     "metadata": {},
     "output_type": "execute_result"
    }
   ],
   "source": [
    "n_trop = reviews.description.map(lambda desc: \"tropical\" in desc).sum()\n",
    "n_fruity = reviews.description.map(lambda desc: \"fruity\" in desc).sum()\n",
    "descriptor_counts = pd.Series([n_trop, n_fruity], index=['tropical', 'fruity'])\n",
    "\n",
    "# Check your answer\n",
    "q6.check()\n",
    "descriptor_counts"
   ]
  },
  {
   "cell_type": "code",
   "execution_count": 13,
   "id": "f1ab264f",
   "metadata": {
    "execution": {
     "iopub.execute_input": "2024-04-29T16:22:41.227602Z",
     "iopub.status.busy": "2024-04-29T16:22:41.227170Z",
     "iopub.status.idle": "2024-04-29T16:22:41.233154Z",
     "shell.execute_reply": "2024-04-29T16:22:41.231533Z"
    },
    "papermill": {
     "duration": 0.02459,
     "end_time": "2024-04-29T16:22:41.236531",
     "exception": false,
     "start_time": "2024-04-29T16:22:41.211941",
     "status": "completed"
    },
    "tags": []
   },
   "outputs": [],
   "source": [
    "#q6.hint()\n",
    "#q6.solution()"
   ]
  },
  {
   "cell_type": "markdown",
   "id": "8f859f33",
   "metadata": {
    "papermill": {
     "duration": 0.012332,
     "end_time": "2024-04-29T16:22:41.262858",
     "exception": false,
     "start_time": "2024-04-29T16:22:41.250526",
     "status": "completed"
    },
    "tags": []
   },
   "source": [
    "## 7.\n",
    "We'd like to host these wine reviews on our website, but a rating system ranging from 80 to 100 points is too hard to understand - we'd like to translate them into simple star ratings. A score of 95 or higher counts as 3 stars, a score of at least 85 but less than 95 is 2 stars. Any other score is 1 star.\n",
    "\n",
    "Also, the Canadian Vintners Association bought a lot of ads on the site, so any wines from Canada should automatically get 3 stars, regardless of points.\n",
    "\n",
    "Create a series `star_ratings` with the number of stars corresponding to each review in the dataset."
   ]
  },
  {
   "cell_type": "code",
   "execution_count": 14,
   "id": "54395e60",
   "metadata": {
    "execution": {
     "iopub.execute_input": "2024-04-29T16:22:41.292434Z",
     "iopub.status.busy": "2024-04-29T16:22:41.291918Z",
     "iopub.status.idle": "2024-04-29T16:22:44.429883Z",
     "shell.execute_reply": "2024-04-29T16:22:44.428472Z"
    },
    "papermill": {
     "duration": 3.15783,
     "end_time": "2024-04-29T16:22:44.434166",
     "exception": false,
     "start_time": "2024-04-29T16:22:41.276336",
     "status": "completed"
    },
    "tags": []
   },
   "outputs": [
    {
     "data": {
      "application/javascript": [
       "parent.postMessage({\"jupyterEvent\": \"custom.exercise_interaction\", \"data\": {\"outcomeType\": 1, \"valueTowardsCompletion\": 0.14285714285714285, \"interactionType\": 1, \"questionType\": 1, \"questionId\": \"7_StarRatings\", \"learnToolsVersion\": \"0.3.4\", \"failureMessage\": \"\", \"exceptionClass\": \"\", \"trace\": \"\"}}, \"*\")"
      ],
      "text/plain": [
       "<IPython.core.display.Javascript object>"
      ]
     },
     "metadata": {},
     "output_type": "display_data"
    },
    {
     "data": {
      "text/markdown": [
       "<span style=\"color:#33cc33\">Correct</span>"
      ],
      "text/plain": [
       "Correct"
      ]
     },
     "metadata": {},
     "output_type": "display_data"
    }
   ],
   "source": [
    "def help(row):\n",
    "    if(row[\"country\"]==\"Canada\"):\n",
    "        return 3\n",
    "    if(row[\"points\"]>=95):\n",
    "        return 3\n",
    "    elif(row[\"points\"]>=85):\n",
    "        return 2\n",
    "    else:\n",
    "        return 1\n",
    "   \n",
    "   \n",
    "   \n",
    "        \n",
    "star_ratings =  reviews.apply(help,axis='columns')\n",
    "\n",
    "\n",
    "# Check your answer\n",
    "q7.check()"
   ]
  },
  {
   "cell_type": "code",
   "execution_count": 15,
   "id": "49d4e07e",
   "metadata": {
    "execution": {
     "iopub.execute_input": "2024-04-29T16:22:44.460694Z",
     "iopub.status.busy": "2024-04-29T16:22:44.460293Z",
     "iopub.status.idle": "2024-04-29T16:22:44.465617Z",
     "shell.execute_reply": "2024-04-29T16:22:44.464255Z"
    },
    "papermill": {
     "duration": 0.021837,
     "end_time": "2024-04-29T16:22:44.468294",
     "exception": false,
     "start_time": "2024-04-29T16:22:44.446457",
     "status": "completed"
    },
    "tags": []
   },
   "outputs": [],
   "source": [
    "#q7.hint()\n",
    "#q7.solution()"
   ]
  },
  {
   "cell_type": "markdown",
   "id": "1b996a2b",
   "metadata": {
    "papermill": {
     "duration": 0.013774,
     "end_time": "2024-04-29T16:22:44.495036",
     "exception": false,
     "start_time": "2024-04-29T16:22:44.481262",
     "status": "completed"
    },
    "tags": []
   },
   "source": [
    "# Keep going\n",
    "Continue to **[grouping and sorting](https://www.kaggle.com/residentmario/grouping-and-sorting)**."
   ]
  },
  {
   "cell_type": "markdown",
   "id": "564afdbe",
   "metadata": {
    "papermill": {
     "duration": 0.011566,
     "end_time": "2024-04-29T16:22:44.519231",
     "exception": false,
     "start_time": "2024-04-29T16:22:44.507665",
     "status": "completed"
    },
    "tags": []
   },
   "source": [
    "---\n",
    "\n",
    "\n",
    "\n",
    "\n",
    "*Have questions or comments? Visit the [course discussion forum](https://www.kaggle.com/learn/pandas/discussion) to chat with other learners.*"
   ]
  }
 ],
 "metadata": {
  "kaggle": {
   "accelerator": "none",
   "dataSources": [
    {
     "datasetId": 655,
     "sourceId": 1252,
     "sourceType": "datasetVersion"
    },
    {
     "datasetId": 2321,
     "sourceId": 3919,
     "sourceType": "datasetVersion"
    },
    {
     "datasetId": 2894,
     "sourceId": 4877,
     "sourceType": "datasetVersion"
    },
    {
     "datasetId": 3491,
     "sourceId": 5624,
     "sourceType": "datasetVersion"
    },
    {
     "datasetId": 1442,
     "sourceId": 8172,
     "sourceType": "datasetVersion"
    },
    {
     "datasetId": 9366,
     "sourceId": 13206,
     "sourceType": "datasetVersion"
    },
    {
     "datasetId": 179555,
     "sourceId": 403916,
     "sourceType": "datasetVersion"
    },
    {
     "datasetId": 4549,
     "sourceId": 466349,
     "sourceType": "datasetVersion"
    },
    {
     "datasetId": 2478,
     "sourceId": 1151655,
     "sourceType": "datasetVersion"
    },
    {
     "datasetId": 10128,
     "sourceId": 5438389,
     "sourceType": "datasetVersion"
    }
   ],
   "isGpuEnabled": false,
   "isInternetEnabled": false,
   "language": "python",
   "sourceType": "notebook"
  },
  "kernelspec": {
   "display_name": "Python 3",
   "language": "python",
   "name": "python3"
  },
  "language_info": {
   "codemirror_mode": {
    "name": "ipython",
    "version": 3
   },
   "file_extension": ".py",
   "mimetype": "text/x-python",
   "name": "python",
   "nbconvert_exporter": "python",
   "pygments_lexer": "ipython3",
   "version": "3.10.13"
  },
  "papermill": {
   "default_parameters": {},
   "duration": 18.457684,
   "end_time": "2024-04-29T16:22:45.153627",
   "environment_variables": {},
   "exception": null,
   "input_path": "__notebook__.ipynb",
   "output_path": "__notebook__.ipynb",
   "parameters": {},
   "start_time": "2024-04-29T16:22:26.695943",
   "version": "2.5.0"
  }
 },
 "nbformat": 4,
 "nbformat_minor": 5
}
